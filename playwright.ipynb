{
  "nbformat": 4,
  "nbformat_minor": 0,
  "metadata": {
    "colab": {
      "provenance": [],
      "authorship_tag": "ABX9TyNNjD8RaqZV5qdREmGWk/PQ",
      "include_colab_link": true
    },
    "kernelspec": {
      "name": "python3",
      "display_name": "Python 3"
    },
    "language_info": {
      "name": "python"
    }
  },
  "cells": [
    {
      "cell_type": "markdown",
      "metadata": {
        "id": "view-in-github",
        "colab_type": "text"
      },
      "source": [
        "<a href=\"https://colab.research.google.com/github/sbagency/colab-hacks/blob/main/playwright.ipynb\" target=\"_parent\"><img src=\"https://colab.research.google.com/assets/colab-badge.svg\" alt=\"Open In Colab\"/></a>"
      ]
    },
    {
      "cell_type": "code",
      "execution_count": null,
      "metadata": {
        "id": "ShxCUKBWnf5m"
      },
      "outputs": [],
      "source": [
        "!pip install playwright"
      ]
    },
    {
      "cell_type": "code",
      "source": [
        "!python -m playwright install --with-deps"
      ],
      "metadata": {
        "id": "sgrqjFEqozuH"
      },
      "execution_count": null,
      "outputs": []
    },
    {
      "cell_type": "code",
      "source": [
        "# colab need this for async\n",
        "#import nest_asyncio\n",
        "#nest_asyncio.apply()\n",
        "\n",
        "# start browser, not to use 'with' context\n",
        "from playwright.async_api import async_playwright\n",
        "playwright = await async_playwright().start()\n",
        "browser = await playwright.chromium.launch()\n",
        "\n",
        "# go to a page, print its source\n",
        "page = await browser.new_page()\n",
        "await page.goto(\"https://playwright.dev/\")\n",
        "print(await page.content())\n",
        "\n",
        "# end session\n",
        "await browser.close()\n",
        "await playwright.stop()"
      ],
      "metadata": {
        "id": "SWve0ZejpBCP"
      },
      "execution_count": null,
      "outputs": []
    }
  ]
}