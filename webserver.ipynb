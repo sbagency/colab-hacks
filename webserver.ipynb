{
  "nbformat": 4,
  "nbformat_minor": 0,
  "metadata": {
    "colab": {
      "provenance": [],
      "authorship_tag": "ABX9TyO/bKIXzZmvQjo6yYlpKMw3",
      "include_colab_link": true
    },
    "kernelspec": {
      "name": "python3",
      "display_name": "Python 3"
    },
    "language_info": {
      "name": "python"
    }
  },
  "cells": [
    {
      "cell_type": "markdown",
      "metadata": {
        "id": "view-in-github",
        "colab_type": "text"
      },
      "source": [
        "<a href=\"https://colab.research.google.com/github/sbagency/colab-hacks/blob/main/webserver.ipynb\" target=\"_parent\"><img src=\"https://colab.research.google.com/assets/colab-badge.svg\" alt=\"Open In Colab\"/></a>"
      ]
    },
    {
      "cell_type": "code",
      "source": [
        "import os\n",
        "import portpicker\n",
        "port = portpicker.pick_unused_port()\n",
        "os.environ[\"PICKED_PORT\"]=f\"{port}\""
      ],
      "metadata": {
        "id": "SkrK4AOX0OiV"
      },
      "execution_count": null,
      "outputs": []
    },
    {
      "cell_type": "code",
      "source": [
        "!echo $PICKED_PORT"
      ],
      "metadata": {
        "colab": {
          "base_uri": "https://localhost:8080/"
        },
        "id": "0O8rEc6E0b23",
        "outputId": "168e589a-8dc5-4540-a8b1-aa76957942be"
      },
      "execution_count": null,
      "outputs": [
        {
          "output_type": "stream",
          "name": "stdout",
          "text": [
            "44991\n"
          ]
        }
      ]
    },
    {
      "cell_type": "code",
      "source": [
        "%%writefile index.html\n",
        "ok!"
      ],
      "metadata": {
        "colab": {
          "base_uri": "https://localhost:8080/"
        },
        "id": "jVs-I57K0jGZ",
        "outputId": "2da3e452-72bf-4990-bd1c-90e68a6b7ee9"
      },
      "execution_count": null,
      "outputs": [
        {
          "output_type": "stream",
          "name": "stdout",
          "text": [
            "Writing index.html\n"
          ]
        }
      ]
    },
    {
      "cell_type": "code",
      "source": [
        "from google.colab.output import eval_js\n",
        "print(eval_js(f\"google.colab.kernel.proxyPort({port})\"))"
      ],
      "metadata": {
        "colab": {
          "base_uri": "https://localhost:8080/",
          "height": 35
        },
        "id": "fHp7JmHY0xHA",
        "outputId": "b0657576-2d1e-4597-a7d7-c695c754728b"
      },
      "execution_count": null,
      "outputs": [
        {
          "output_type": "stream",
          "name": "stdout",
          "text": [
            "https://ltkm5w9drmj-496ff2e9c6d22116-44991-colab.googleusercontent.com/\n"
          ]
        }
      ]
    },
    {
      "cell_type": "code",
      "source": [
        "!python -m http.server $PICKED_PORT"
      ],
      "metadata": {
        "colab": {
          "base_uri": "https://localhost:8080/"
        },
        "id": "iKJ7ERHh02KZ",
        "outputId": "26d435b1-0883-4ff2-97b1-de07dd4249cc"
      },
      "execution_count": null,
      "outputs": [
        {
          "output_type": "stream",
          "name": "stdout",
          "text": [
            "Serving HTTP on 0.0.0.0 port 44991 (http://0.0.0.0:44991/) ...\n",
            "127.0.0.1 - - [20/Dec/2024 20:50:53] \"GET /?authuser=0 HTTP/1.1\" 200 -\n",
            "127.0.0.1 - - [20/Dec/2024 20:50:54] code 404, message File not found\n",
            "127.0.0.1 - - [20/Dec/2024 20:50:54] \"GET /favicon.ico?authuser=0 HTTP/1.1\" 404 -\n",
            "\n",
            "Keyboard interrupt received, exiting.\n",
            "^C\n"
          ]
        }
      ]
    },
    {
      "cell_type": "code",
      "execution_count": null,
      "metadata": {
        "colab": {
          "base_uri": "https://localhost:8080/"
        },
        "id": "DlmabjcdzzpI",
        "outputId": "c1cb1ddf-60e4-418c-e4c3-fad1479069c6"
      },
      "outputs": [
        {
          "output_type": "stream",
          "name": "stdout",
          "text": [
            "34.106.240.28"
          ]
        }
      ],
      "source": [
        "!curl ipecho.net/plain"
      ]
    },
    {
      "cell_type": "code",
      "source": [
        "!apt install squid"
      ],
      "metadata": {
        "colab": {
          "base_uri": "https://localhost:8080/"
        },
        "id": "koAQnjBO4TIt",
        "outputId": "627ce337-557e-4a66-9d45-32ae2713025f"
      },
      "execution_count": null,
      "outputs": [
        {
          "output_type": "stream",
          "name": "stdout",
          "text": [
            "Reading package lists... Done\n",
            "Building dependency tree... Done\n",
            "Reading state information... Done\n",
            "The following additional packages will be installed:\n",
            "  libdbi-perl libecap3 libnetfilter-conntrack3 libnfnetlink0 libtdb1 logrotate netbase squid-common\n",
            "  squid-langpack ssl-cert\n",
            "Suggested packages:\n",
            "  libclone-perl libmldbm-perl libnet-daemon-perl libsql-statement-perl bsd-mailx | mailx\n",
            "  squidclient squid-cgi squid-purge resolvconf smbclient ufw winbind apparmor\n",
            "The following NEW packages will be installed:\n",
            "  libdbi-perl libecap3 libnetfilter-conntrack3 libnfnetlink0 libtdb1 logrotate netbase squid\n",
            "  squid-common squid-langpack ssl-cert\n",
            "0 upgraded, 11 newly installed, 0 to remove and 49 not upgraded.\n",
            "Need to get 4,000 kB of archives.\n",
            "After this operation, 15.5 MB of additional disk space will be used.\n",
            "Get:1 http://archive.ubuntu.com/ubuntu jammy/main amd64 libecap3 amd64 1.0.1-3.2ubuntu4 [17.0 kB]\n",
            "Get:2 http://archive.ubuntu.com/ubuntu jammy/main amd64 libnfnetlink0 amd64 1.0.1-3build3 [14.6 kB]\n",
            "Get:3 http://archive.ubuntu.com/ubuntu jammy/main amd64 libnetfilter-conntrack3 amd64 1.0.9-1 [45.3 kB]\n",
            "Get:4 http://archive.ubuntu.com/ubuntu jammy/main amd64 libtdb1 amd64 1.4.5-2build1 [46.4 kB]\n",
            "Get:5 http://archive.ubuntu.com/ubuntu jammy/main amd64 netbase all 6.3 [12.9 kB]\n",
            "Get:6 http://archive.ubuntu.com/ubuntu jammy-updates/main amd64 logrotate amd64 3.19.0-1ubuntu1.1 [54.3 kB]\n",
            "Get:7 http://archive.ubuntu.com/ubuntu jammy/main amd64 squid-langpack all 20200403-1 [170 kB]\n",
            "Get:8 http://archive.ubuntu.com/ubuntu jammy-updates/main amd64 squid-common all 5.9-0ubuntu0.22.04.2 [204 kB]\n",
            "Get:9 http://archive.ubuntu.com/ubuntu jammy/main amd64 libdbi-perl amd64 1.643-3build3 [741 kB]\n",
            "Get:10 http://archive.ubuntu.com/ubuntu jammy/main amd64 ssl-cert all 1.1.2 [17.4 kB]\n",
            "Get:11 http://archive.ubuntu.com/ubuntu jammy-updates/main amd64 squid amd64 5.9-0ubuntu0.22.04.2 [2,678 kB]\n",
            "Fetched 4,000 kB in 1s (4,685 kB/s)\n",
            "Preconfiguring packages ...\n",
            "Selecting previously unselected package libecap3:amd64.\n",
            "(Reading database ... 123634 files and directories currently installed.)\n",
            "Preparing to unpack .../00-libecap3_1.0.1-3.2ubuntu4_amd64.deb ...\n",
            "Unpacking libecap3:amd64 (1.0.1-3.2ubuntu4) ...\n",
            "Selecting previously unselected package libnfnetlink0:amd64.\n",
            "Preparing to unpack .../01-libnfnetlink0_1.0.1-3build3_amd64.deb ...\n",
            "Unpacking libnfnetlink0:amd64 (1.0.1-3build3) ...\n",
            "Selecting previously unselected package libnetfilter-conntrack3:amd64.\n",
            "Preparing to unpack .../02-libnetfilter-conntrack3_1.0.9-1_amd64.deb ...\n",
            "Unpacking libnetfilter-conntrack3:amd64 (1.0.9-1) ...\n",
            "Selecting previously unselected package libtdb1:amd64.\n",
            "Preparing to unpack .../03-libtdb1_1.4.5-2build1_amd64.deb ...\n",
            "Unpacking libtdb1:amd64 (1.4.5-2build1) ...\n",
            "Selecting previously unselected package netbase.\n",
            "Preparing to unpack .../04-netbase_6.3_all.deb ...\n",
            "Unpacking netbase (6.3) ...\n",
            "Selecting previously unselected package logrotate.\n",
            "Preparing to unpack .../05-logrotate_3.19.0-1ubuntu1.1_amd64.deb ...\n",
            "Unpacking logrotate (3.19.0-1ubuntu1.1) ...\n",
            "Selecting previously unselected package squid-langpack.\n",
            "Preparing to unpack .../06-squid-langpack_20200403-1_all.deb ...\n",
            "Unpacking squid-langpack (20200403-1) ...\n",
            "Selecting previously unselected package squid-common.\n",
            "Preparing to unpack .../07-squid-common_5.9-0ubuntu0.22.04.2_all.deb ...\n",
            "Unpacking squid-common (5.9-0ubuntu0.22.04.2) ...\n",
            "Selecting previously unselected package libdbi-perl:amd64.\n",
            "Preparing to unpack .../08-libdbi-perl_1.643-3build3_amd64.deb ...\n",
            "Unpacking libdbi-perl:amd64 (1.643-3build3) ...\n",
            "Selecting previously unselected package ssl-cert.\n",
            "Preparing to unpack .../09-ssl-cert_1.1.2_all.deb ...\n",
            "Unpacking ssl-cert (1.1.2) ...\n",
            "Selecting previously unselected package squid.\n",
            "Preparing to unpack .../10-squid_5.9-0ubuntu0.22.04.2_amd64.deb ...\n",
            "proxy:x:13:13:proxy:/bin:/usr/sbin/nologin\n",
            "Unpacking squid (5.9-0ubuntu0.22.04.2) ...\n",
            "Setting up logrotate (3.19.0-1ubuntu1.1) ...\n",
            "Created symlink /etc/systemd/system/timers.target.wants/logrotate.timer → /lib/systemd/system/logrotate.timer.\n",
            "Setting up libtdb1:amd64 (1.4.5-2build1) ...\n",
            "Setting up squid-langpack (20200403-1) ...\n",
            "Setting up ssl-cert (1.1.2) ...\n",
            "Setting up libnfnetlink0:amd64 (1.0.1-3build3) ...\n",
            "Setting up netbase (6.3) ...\n",
            "Setting up libdbi-perl:amd64 (1.643-3build3) ...\n",
            "Setting up libecap3:amd64 (1.0.1-3.2ubuntu4) ...\n",
            "Setting up squid-common (5.9-0ubuntu0.22.04.2) ...\n",
            "Setting up libnetfilter-conntrack3:amd64 (1.0.9-1) ...\n",
            "Setting up squid (5.9-0ubuntu0.22.04.2) ...\n",
            "Setcap worked! /usr/lib/squid/pinger is not suid!\n",
            "invoke-rc.d: could not determine current runlevel\n",
            "invoke-rc.d: policy-rc.d denied execution of start.\n",
            "Created symlink /etc/systemd/system/multi-user.target.wants/squid.service → /lib/systemd/system/squid.service.\n",
            "Processing triggers for man-db (2.10.2-1) ...\n",
            "Processing triggers for libc-bin (2.35-0ubuntu3.4) ...\n",
            "/sbin/ldconfig.real: /usr/local/lib/libtcm_debug.so.1 is not a symbolic link\n",
            "\n",
            "/sbin/ldconfig.real: /usr/local/lib/libur_loader.so.0 is not a symbolic link\n",
            "\n",
            "/sbin/ldconfig.real: /usr/local/lib/libhwloc.so.15 is not a symbolic link\n",
            "\n",
            "/sbin/ldconfig.real: /usr/local/lib/libumf.so.0 is not a symbolic link\n",
            "\n",
            "/sbin/ldconfig.real: /usr/local/lib/libtbbmalloc_proxy.so.2 is not a symbolic link\n",
            "\n",
            "/sbin/ldconfig.real: /usr/local/lib/libtbbbind_2_0.so.3 is not a symbolic link\n",
            "\n",
            "/sbin/ldconfig.real: /usr/local/lib/libtbbbind.so.3 is not a symbolic link\n",
            "\n",
            "/sbin/ldconfig.real: /usr/local/lib/libtbbmalloc.so.2 is not a symbolic link\n",
            "\n",
            "/sbin/ldconfig.real: /usr/local/lib/libtbb.so.12 is not a symbolic link\n",
            "\n",
            "/sbin/ldconfig.real: /usr/local/lib/libtbbbind_2_5.so.3 is not a symbolic link\n",
            "\n",
            "/sbin/ldconfig.real: /usr/local/lib/libtcm.so.1 is not a symbolic link\n",
            "\n",
            "/sbin/ldconfig.real: /usr/local/lib/libur_adapter_level_zero.so.0 is not a symbolic link\n",
            "\n",
            "/sbin/ldconfig.real: /usr/local/lib/libur_adapter_opencl.so.0 is not a symbolic link\n",
            "\n"
          ]
        }
      ]
    }
  ]
}